{
 "cells": [
  {
   "cell_type": "code",
   "execution_count": 1,
   "id": "40fb6b9e",
   "metadata": {},
   "outputs": [
    {
     "name": "stderr",
     "output_type": "stream",
     "text": [
      "2024-03-25 11:35:40.960 \n",
      "  \u001b[33m\u001b[1mWarning:\u001b[0m to view this Streamlit app on a browser, run it with the following\n",
      "  command:\n",
      "\n",
      "    streamlit run C:\\Users\\diagne080894\\Documents\\Min\\envs\\pyenv1\\lib\\site-packages\\ipykernel_launcher.py [ARGUMENTS]\n"
     ]
    }
   ],
   "source": [
    "import streamlit as st\n",
    "import saspy\n",
    "\n",
    "def filter_elements(callermsisdns):\n",
    "    # Initialise une session SAS\n",
    "    sas = saspy.SASsession(cfgname='httpsviya')\n",
    "    \n",
    "    for callermsisdn in callermsisdns:\n",
    "        # Filtrage des éléments pour chaque callermsisdn\n",
    "        sas.submit(f'''\n",
    "            proc sql;\n",
    "                create table dfra.localisation_switch_rest as\n",
    "                select *\n",
    "                from dfra.localisation_switch_\n",
    "                where callermsisdn = '{callermsisdn}';\n",
    "            quit;\n",
    "        ''')\n",
    "        # Ajoute un message pour indiquer que le filtrage est terminé\n",
    "        st.write(f'Table filtrée pour callermsisdn {callermsisdn} envoyée vers SAS Visual Analytics')\n",
    "\n",
    "    # Exécute des commandes SAS supplémentaires après le filtrage des données\n",
    "    sas.submit('''\n",
    "                /*****************************************************************************/\n",
    "                /*  Start a session named mySession using the existing CAS server connection */\n",
    "                /*  while allowing override of caslib, timeout (in seconds), and locale     */\n",
    "                /*  defaults.                                                                */\n",
    "                /*****************************************************************************/\n",
    "                options cashost=\"bigdviyaccont1.orangemali.local\" casport=5580;\n",
    "                cas myCTsession sessopts=(caslib=casuser timeout=1800 locale=\"en_US\");\n",
    "                cas myCTsession list; \n",
    "                /*---------------------------------------------------------------------------------*/\n",
    "                /*     Make all the defined (global) SAS Libraries available for this session      */\n",
    "                /*---------------------------------------------------------------------------------*/\n",
    "                caslib _all_ assign; \n",
    "                \n",
    "                proc casutil incaslib=\"reportdfra\" outcaslib=\"reportdfra\";\n",
    "                    droptable casdata=\"localisation_switch_rest\" quiet;\n",
    "                    load data=dfra.localisation_switch_rest casout=\"localisation_switch_rest\" promote;\n",
    "                    save casdata=\"localisation_switch_rest\" replace;\n",
    "                run;\n",
    "    ''')\n",
    "\n",
    "    # Affiche le lien vers SAS Visual Analytics\n",
    "    st.write(\"Votre table filtrée a été envoyée vers SAS Visual Analytics.\")\n",
    "    st.write(\"Vous pouvez accéder au rapport ici :\")\n",
    "    url = \"https://bigdataviya.orangemali.local/SASVisualAnalytics/?reportUri=%2Freports%2Freports%2F961b1c48-34ec-4d35-844c-097458c739e2&sectionIndex=0&objectName=vi95&quickView=true&sas-welcome=false\"\n",
    "    st.markdown(f\"[Lien vers SAS Visual Analytics]({url})\")\n",
    "\n",
    "def main():\n",
    "    st.title('Multi-Filtre App')\n",
    "                    \n",
    "    # Champ de saisie pour les callermsisdn\n",
    "    callermsisdns_input = st.text_input('callermsisdn (séparés par des virgules):')\n",
    "            \n",
    "    # Bouton de filtrage\n",
    "    if st.button('Filtrer'):\n",
    "        callermsisdns = callermsisdns_input.split(',')\n",
    "        filter_elements(callermsisdns)\n",
    "\n",
    "if __name__ == '__main__':\n",
    "    main()\n"
   ]
  }
 ],
 "metadata": {
  "kernelspec": {
   "display_name": "Python 3 (ipykernel)",
   "language": "python",
   "name": "python3"
  },
  "language_info": {
   "codemirror_mode": {
    "name": "ipython",
    "version": 3
   },
   "file_extension": ".py",
   "mimetype": "text/x-python",
   "name": "python",
   "nbconvert_exporter": "python",
   "pygments_lexer": "ipython3",
   "version": "3.10.11"
  }
 },
 "nbformat": 4,
 "nbformat_minor": 5
}
